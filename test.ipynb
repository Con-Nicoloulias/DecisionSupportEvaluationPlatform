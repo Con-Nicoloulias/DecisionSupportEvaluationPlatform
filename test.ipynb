{
 "cells": [
  {
   "cell_type": "markdown",
   "metadata": {},
   "source": [
    "# Wolf Goat Cabbage - Testing\n",
    "\n",
    "_Greg O'Keefe, February 2020_\n",
    "\n",
    "A bunch of stuff to exercise the code in a not particularly systematic way.\n"
   ]
  },
  {
   "cell_type": "markdown",
   "metadata": {},
   "source": [
    "## to do\n",
    "  - (nothing, it's perfect :P)"
   ]
  },
  {
   "cell_type": "code",
   "execution_count": 1,
   "metadata": {},
   "outputs": [],
   "source": [
    "# gaahh, edit this to point to your repo, there has to be a better way!\n",
    "repo_loc = 'C:\\\\Users\\Greg\\Documents\\code\\wolf_goat_cabbage_CodeWolf7'\n",
    "import sys\n",
    "#sys.path.append('H:\\\\Code\\wolf_goat_cabbage')\n",
    "sys.path.append(repo_loc)"
   ]
  },
  {
   "cell_type": "markdown",
   "metadata": {},
   "source": [
    "## Game Model"
   ]
  },
  {
   "cell_type": "markdown",
   "metadata": {},
   "source": [
    "### Game"
   ]
  },
  {
   "cell_type": "code",
   "execution_count": 2,
   "metadata": {},
   "outputs": [],
   "source": [
    "from core.model import Game, Entity, LoadMovingEntity, Boat, Wolf, Goat, Cabbage"
   ]
  },
  {
   "cell_type": "code",
   "execution_count": 3,
   "metadata": {},
   "outputs": [],
   "source": [
    "game = Game(location_names=['barn', 'paddock'])"
   ]
  },
  {
   "cell_type": "code",
   "execution_count": 4,
   "metadata": {},
   "outputs": [
    {
     "data": {
      "text/plain": [
       "True"
      ]
     },
     "execution_count": 4,
     "metadata": {},
     "output_type": "execute_result"
    }
   ],
   "source": [
    "game.location_exists('barn')"
   ]
  },
  {
   "cell_type": "code",
   "execution_count": 5,
   "metadata": {},
   "outputs": [
    {
     "data": {
      "text/plain": [
       "False"
      ]
     },
     "execution_count": 5,
     "metadata": {},
     "output_type": "execute_result"
    }
   ],
   "source": [
    "game.location_exists('the moon')"
   ]
  },
  {
   "cell_type": "code",
   "execution_count": 6,
   "metadata": {},
   "outputs": [
    {
     "name": "stdout",
     "output_type": "stream",
     "text": [
      "barn       []\n",
      "paddock    []\n"
     ]
    }
   ],
   "source": [
    "game.print_state()"
   ]
  },
  {
   "cell_type": "code",
   "execution_count": 7,
   "metadata": {},
   "outputs": [
    {
     "data": {
      "text/plain": [
       "True"
      ]
     },
     "execution_count": 7,
     "metadata": {},
     "output_type": "execute_result"
    }
   ],
   "source": [
    "game.integrity()"
   ]
  },
  {
   "cell_type": "code",
   "execution_count": 8,
   "metadata": {},
   "outputs": [
    {
     "data": {
      "text/plain": [
       "[]"
      ]
     },
     "execution_count": 8,
     "metadata": {},
     "output_type": "execute_result"
    }
   ],
   "source": [
    "game.xs_at(Entity, 'barn')"
   ]
  },
  {
   "cell_type": "markdown",
   "metadata": {},
   "source": [
    "### Entity"
   ]
  },
  {
   "cell_type": "code",
   "execution_count": 9,
   "metadata": {},
   "outputs": [],
   "source": [
    "cow = Entity('cow')"
   ]
  },
  {
   "cell_type": "code",
   "execution_count": 10,
   "metadata": {},
   "outputs": [],
   "source": [
    "game.add_entity(cow, 'paddock')"
   ]
  },
  {
   "cell_type": "code",
   "execution_count": 11,
   "metadata": {},
   "outputs": [
    {
     "data": {
      "text/plain": [
       "[<core.model.Entity at 0x73fe0c8>]"
      ]
     },
     "execution_count": 11,
     "metadata": {},
     "output_type": "execute_result"
    }
   ],
   "source": [
    "paddock_entities = game.xs_at(Entity, 'paddock')\n",
    "paddock_entities"
   ]
  },
  {
   "cell_type": "code",
   "execution_count": 12,
   "metadata": {},
   "outputs": [
    {
     "data": {
      "text/plain": [
       "[<core.model.Entity at 0x73fe0c8>]"
      ]
     },
     "execution_count": 12,
     "metadata": {},
     "output_type": "execute_result"
    }
   ],
   "source": [
    "game.xs(Entity)"
   ]
  },
  {
   "cell_type": "code",
   "execution_count": 13,
   "metadata": {},
   "outputs": [
    {
     "name": "stdout",
     "output_type": "stream",
     "text": [
      "All good, failed as intended.\n"
     ]
    }
   ],
   "source": [
    "# should fail as we already have a 'cow' entity\n",
    "try:\n",
    "    game.add_entity(Entity('cow'), 'barn')\n",
    "    # oh no, we didn't fail, which is a problem\n",
    "    raise RuntimeError('That should have failed, but did not.')\n",
    "except AssertionError as error:\n",
    "    print('All good, failed as intended.')"
   ]
  },
  {
   "cell_type": "code",
   "execution_count": 14,
   "metadata": {},
   "outputs": [
    {
     "data": {
      "text/plain": [
       "True"
      ]
     },
     "execution_count": 14,
     "metadata": {},
     "output_type": "execute_result"
    }
   ],
   "source": [
    "game.is_at('cow', 'paddock')"
   ]
  },
  {
   "cell_type": "code",
   "execution_count": 15,
   "metadata": {},
   "outputs": [
    {
     "data": {
      "text/plain": [
       "False"
      ]
     },
     "execution_count": 15,
     "metadata": {},
     "output_type": "execute_result"
    }
   ],
   "source": [
    "game.is_at('cow', 'barn')"
   ]
  },
  {
   "cell_type": "code",
   "execution_count": 16,
   "metadata": {},
   "outputs": [],
   "source": [
    "game.add_entity(Entity('hammer'), 'barn')"
   ]
  },
  {
   "cell_type": "code",
   "execution_count": 17,
   "metadata": {},
   "outputs": [
    {
     "name": "stdout",
     "output_type": "stream",
     "text": [
      "barn       ['hammer']\n",
      "paddock    ['cow']\n"
     ]
    }
   ],
   "source": [
    "game.print_state()"
   ]
  },
  {
   "cell_type": "code",
   "execution_count": 18,
   "metadata": {},
   "outputs": [
    {
     "data": {
      "text/plain": [
       "True"
      ]
     },
     "execution_count": 18,
     "metadata": {},
     "output_type": "execute_result"
    }
   ],
   "source": [
    "game.entity_exists('hammer')"
   ]
  },
  {
   "cell_type": "code",
   "execution_count": 19,
   "metadata": {},
   "outputs": [
    {
     "data": {
      "text/plain": [
       "False"
      ]
     },
     "execution_count": 19,
     "metadata": {},
     "output_type": "execute_result"
    }
   ],
   "source": [
    "game.entity_exists('Count Dracula')"
   ]
  },
  {
   "cell_type": "code",
   "execution_count": 20,
   "metadata": {},
   "outputs": [
    {
     "name": "stdout",
     "output_type": "stream",
     "text": [
      "barn       ['hammer', 'cow']\n",
      "paddock    []\n"
     ]
    }
   ],
   "source": [
    "game.move_entity('cow', 'barn')\n",
    "game.print_state()"
   ]
  },
  {
   "cell_type": "code",
   "execution_count": 21,
   "metadata": {},
   "outputs": [
    {
     "data": {
      "text/plain": [
       "True"
      ]
     },
     "execution_count": 21,
     "metadata": {},
     "output_type": "execute_result"
    }
   ],
   "source": [
    "game.integrity()"
   ]
  },
  {
   "cell_type": "code",
   "execution_count": 22,
   "metadata": {},
   "outputs": [
    {
     "name": "stdout",
     "output_type": "stream",
     "text": [
      "barn       []\n",
      "paddock    ['hammer']\n"
     ]
    }
   ],
   "source": [
    "game.get_entity('hammer').move('paddock')\n",
    "game.remove_entity('cow')\n",
    "game.print_state()"
   ]
  },
  {
   "cell_type": "markdown",
   "metadata": {},
   "source": [
    "### LoadMovingEntity"
   ]
  },
  {
   "cell_type": "code",
   "execution_count": 23,
   "metadata": {},
   "outputs": [
    {
     "name": "stdout",
     "output_type": "stream",
     "text": [
      "barn       ['hammer', 'tractor']\n",
      "paddock    ['cow']\n"
     ]
    }
   ],
   "source": [
    "game = Game(location_names=['barn', 'paddock'])\n",
    "game.add_entity(Entity('cow'), 'paddock')\n",
    "game.add_entity(Entity('hammer'), 'barn')\n",
    "tractor = LoadMovingEntity(name='tractor')\n",
    "game.add_entity(tractor, 'barn')\n",
    "game.print_state()"
   ]
  },
  {
   "cell_type": "code",
   "execution_count": 24,
   "metadata": {},
   "outputs": [
    {
     "name": "stdout",
     "output_type": "stream",
     "text": [
      "barn       []\n",
      "paddock    ['cow', 'tractor']\n",
      "tractor    hammer\n"
     ]
    }
   ],
   "source": [
    "tractor.load('hammer')\n",
    "tractor.move('paddock')\n",
    "game.print_state()"
   ]
  },
  {
   "cell_type": "code",
   "execution_count": 25,
   "metadata": {},
   "outputs": [
    {
     "name": "stdout",
     "output_type": "stream",
     "text": [
      "barn       []\n",
      "paddock    ['cow', 'hammer', 'tractor']\n"
     ]
    }
   ],
   "source": [
    "tractor.unload()\n",
    "game.print_state()"
   ]
  },
  {
   "cell_type": "code",
   "execution_count": 26,
   "metadata": {},
   "outputs": [
    {
     "data": {
      "text/plain": [
       "True"
      ]
     },
     "execution_count": 26,
     "metadata": {},
     "output_type": "execute_result"
    }
   ],
   "source": [
    "game.integrity()"
   ]
  },
  {
   "cell_type": "code",
   "execution_count": 27,
   "metadata": {},
   "outputs": [],
   "source": [
    "tractor.load('cow')"
   ]
  },
  {
   "cell_type": "code",
   "execution_count": 28,
   "metadata": {},
   "outputs": [
    {
     "name": "stdout",
     "output_type": "stream",
     "text": [
      "All good, failed as intended.\n"
     ]
    }
   ],
   "source": [
    "# should fail, already have a load\n",
    "try:\n",
    "    tractor.load('hammer')\n",
    "    # oh no, we didn't fail, which is a problem\n",
    "    raise RuntimeError('That should have failed, but did not.')\n",
    "except AssertionError as error:\n",
    "    print('All good, failed as intended.')"
   ]
  },
  {
   "cell_type": "code",
   "execution_count": 29,
   "metadata": {},
   "outputs": [
    {
     "name": "stdout",
     "output_type": "stream",
     "text": [
      "barn       ['cow', 'tractor']\n",
      "paddock    ['hammer']\n"
     ]
    }
   ],
   "source": [
    "tractor.move('barn')\n",
    "tractor.unload()\n",
    "game.print_state()"
   ]
  },
  {
   "cell_type": "code",
   "execution_count": 30,
   "metadata": {},
   "outputs": [
    {
     "name": "stdout",
     "output_type": "stream",
     "text": [
      "All good, failed as intended.\n"
     ]
    }
   ],
   "source": [
    "# should fail, hammer is in paddock but we are in barn\n",
    "try:\n",
    "    tractor.load('hammer')\n",
    "    # oh no, we didn't fail, which is a problem\n",
    "    raise RuntimeError('That should have failed, but did not.')\n",
    "except AssertionError as error:\n",
    "    print('All good, failed as intended.')"
   ]
  },
  {
   "cell_type": "code",
   "execution_count": 31,
   "metadata": {},
   "outputs": [
    {
     "data": {
      "text/plain": [
       "dict_keys(['barn', 'paddock'])"
      ]
     },
     "execution_count": 31,
     "metadata": {},
     "output_type": "execute_result"
    }
   ],
   "source": [
    "game.locations.keys()"
   ]
  },
  {
   "cell_type": "code",
   "execution_count": 38,
   "metadata": {},
   "outputs": [
    {
     "data": {
      "text/plain": [
       "{'barn': ['tractor'], 'paddock': ['hammer']}"
      ]
     },
     "execution_count": 38,
     "metadata": {},
     "output_type": "execute_result"
    }
   ],
   "source": [
    "{ loc:[e.name for e in game.locations[loc]] for loc in game.locations.keys() }"
   ]
  },
  {
   "cell_type": "code",
   "execution_count": 39,
   "metadata": {},
   "outputs": [
    {
     "data": {
      "text/plain": [
       "{'tractor': 'barn', 'hammer': 'paddock'}"
      ]
     },
     "execution_count": 39,
     "metadata": {},
     "output_type": "execute_result"
    }
   ],
   "source": [
    "{ e.name:loc for loc in game.locations.keys() for e in game.locations[loc] }"
   ]
  },
  {
   "cell_type": "code",
   "execution_count": 34,
   "metadata": {},
   "outputs": [
    {
     "data": {
      "text/plain": [
       "{'cow': 'barn', 'hammer': 'paddock', 'tractor': 'barn'}"
      ]
     },
     "execution_count": 34,
     "metadata": {},
     "output_type": "execute_result"
    }
   ],
   "source": [
    "{ ent:game.entities[ent].location for ent in game.entities }"
   ]
  },
  {
   "cell_type": "code",
   "execution_count": 47,
   "metadata": {},
   "outputs": [],
   "source": [
    "tractor.load('cow')"
   ]
  },
  {
   "cell_type": "code",
   "execution_count": 36,
   "metadata": {},
   "outputs": [
    {
     "data": {
      "text/plain": [
       "{'cow': None, 'hammer': 'paddock', 'tractor': 'barn'}"
      ]
     },
     "execution_count": 36,
     "metadata": {},
     "output_type": "execute_result"
    }
   ],
   "source": [
    "{ ent:game.entities[ent].location for ent in game.entities }"
   ]
  },
  {
   "cell_type": "code",
   "execution_count": 37,
   "metadata": {},
   "outputs": [
    {
     "data": {
      "text/plain": [
       "<core.model.Entity at 0x7f3c108>"
      ]
     },
     "execution_count": 37,
     "metadata": {},
     "output_type": "execute_result"
    }
   ],
   "source": [
    "tractor.loaded_entity"
   ]
  },
  {
   "cell_type": "code",
   "execution_count": 49,
   "metadata": {},
   "outputs": [
    {
     "data": {
      "text/plain": [
       "{'cow': 'tractor'}"
      ]
     },
     "execution_count": 49,
     "metadata": {},
     "output_type": "execute_result"
    }
   ],
   "source": [
    "{ lme.loaded_entity.name:lme.name for lme in game.entities.values() if isinstance(lme, LoadMovingEntity) and lme.loaded_entity}"
   ]
  },
  {
   "cell_type": "code",
   "execution_count": 44,
   "metadata": {},
   "outputs": [],
   "source": [
    "tractor.unload()"
   ]
  },
  {
   "cell_type": "markdown",
   "metadata": {},
   "source": [
    "## Game Engine"
   ]
  },
  {
   "cell_type": "code",
   "execution_count": null,
   "metadata": {},
   "outputs": [],
   "source": [
    "from core.engine import WolfGoatCabbageGameEngine\n",
    "from core.player import Player, BadPlayer, CheatPlayer, GoodPlayer, PlannedPlayer"
   ]
  },
  {
   "cell_type": "markdown",
   "metadata": {},
   "source": [
    "Base `Player` class does nothing on `do_turn()`."
   ]
  },
  {
   "cell_type": "code",
   "execution_count": null,
   "metadata": {},
   "outputs": [],
   "source": [
    "engine = WolfGoatCabbageGameEngine()\n",
    "player = Player()\n",
    "engine.set_player(player)\n",
    "engine.set_up()"
   ]
  },
  {
   "cell_type": "code",
   "execution_count": null,
   "metadata": {},
   "outputs": [],
   "source": [
    "engine.run()"
   ]
  },
  {
   "cell_type": "markdown",
   "metadata": {},
   "source": [
    "`BadPlayer` makes some moves, but not good ones."
   ]
  },
  {
   "cell_type": "code",
   "execution_count": null,
   "metadata": {},
   "outputs": [],
   "source": [
    "engine = WolfGoatCabbageGameEngine()\n",
    "player = BadPlayer()\n",
    "engine.set_player(player)\n",
    "engine.set_up()\n",
    "engine.game.print_state()"
   ]
  },
  {
   "cell_type": "code",
   "execution_count": null,
   "metadata": {},
   "outputs": [],
   "source": [
    "engine.run()"
   ]
  },
  {
   "cell_type": "markdown",
   "metadata": {},
   "source": [
    "`CheatPlayer` attempts to cross the river multiple times during a single turn. "
   ]
  },
  {
   "cell_type": "code",
   "execution_count": null,
   "metadata": {},
   "outputs": [],
   "source": [
    "engine = WolfGoatCabbageGameEngine()\n",
    "player = CheatPlayer()\n",
    "engine.set_player(player)\n",
    "engine.set_up()"
   ]
  },
  {
   "cell_type": "code",
   "execution_count": null,
   "metadata": {},
   "outputs": [],
   "source": [
    "# should fail because attempts multiple crossings in a single turn\n",
    "try:\n",
    "    engine.run()\n",
    "    # oh no, we didn't fail, which is a problem\n",
    "    raise RuntimeError('That should have failed, but did not.')\n",
    "except AssertionError as error:\n",
    "    print('All good, failed as intended.')    "
   ]
  },
  {
   "cell_type": "markdown",
   "metadata": {},
   "source": [
    "`GoodPlayer` has a solution hardcoded in."
   ]
  },
  {
   "cell_type": "code",
   "execution_count": null,
   "metadata": {},
   "outputs": [],
   "source": [
    "engine = WolfGoatCabbageGameEngine()\n",
    "player = GoodPlayer()\n",
    "engine.set_player(player)\n",
    "engine.set_up()"
   ]
  },
  {
   "cell_type": "code",
   "execution_count": null,
   "metadata": {},
   "outputs": [],
   "source": [
    "engine.run()"
   ]
  },
  {
   "cell_type": "markdown",
   "metadata": {},
   "source": [
    "`PlannedPlayer` reads its moves from a text file."
   ]
  },
  {
   "cell_type": "code",
   "execution_count": null,
   "metadata": {},
   "outputs": [],
   "source": [
    "engine = WolfGoatCabbageGameEngine()\n",
    "player = PlannedPlayer(repo_loc + '\\GoodPlan.txt')\n",
    "engine.set_player(player)\n",
    "engine.set_up()"
   ]
  },
  {
   "cell_type": "code",
   "execution_count": null,
   "metadata": {},
   "outputs": [],
   "source": [
    "engine.run()"
   ]
  },
  {
   "cell_type": "code",
   "execution_count": null,
   "metadata": {},
   "outputs": [],
   "source": []
  }
 ],
 "metadata": {
  "kernelspec": {
   "display_name": "Python 3",
   "language": "python",
   "name": "python3"
  },
  "language_info": {
   "codemirror_mode": {
    "name": "ipython",
    "version": 3
   },
   "file_extension": ".py",
   "mimetype": "text/x-python",
   "name": "python",
   "nbconvert_exporter": "python",
   "pygments_lexer": "ipython3",
   "version": "3.7.6"
  }
 },
 "nbformat": 4,
 "nbformat_minor": 2
}
